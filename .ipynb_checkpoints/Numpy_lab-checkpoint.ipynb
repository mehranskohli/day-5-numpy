{
 "cells": [
  {
   "cell_type": "code",
   "execution_count": 2,
   "metadata": {},
   "outputs": [],
   "source": [
    "import numpy as np"
   ]
  },
  {
   "cell_type": "code",
   "execution_count": 3,
   "metadata": {},
   "outputs": [
    {
     "name": "stdout",
     "output_type": "stream",
     "text": [
      "1.14.0\n"
     ]
    }
   ],
   "source": [
    "version= np.version.version\n",
    "\n",
    "print(version)\n"
   ]
  },
  {
   "cell_type": "code",
   "execution_count": 4,
   "metadata": {},
   "outputs": [
    {
     "name": "stdout",
     "output_type": "stream",
     "text": [
      "[[[0.15053423 0.34385119 0.01317828 0.03879493 0.47160562]\n",
      "  [0.67136312 0.40386404 0.85990045 0.49501737 0.27041047]\n",
      "  [0.06089481 0.59008481 0.18147626 0.96270294 0.31112367]]\n",
      "\n",
      " [[0.28874885 0.40878513 0.67507491 0.27817078 0.2341685 ]\n",
      "  [0.31000799 0.54461955 0.64996279 0.37003544 0.39856755]\n",
      "  [0.11153851 0.5972413  0.86215861 0.67253975 0.4001809 ]]]\n"
     ]
    }
   ],
   "source": [
    "'''\n",
    "L.S. Good! \n",
    "'''\n",
    "\n",
    "a = np.random.random((2,3,5))\n",
    "print(a)\n"
   ]
  },
  {
   "cell_type": "code",
   "execution_count": 5,
   "metadata": {},
   "outputs": [
    {
     "name": "stdout",
     "output_type": "stream",
     "text": [
      "[[[1. 1. 1.]\n",
      "  [1. 1. 1.]]\n",
      "\n",
      " [[1. 1. 1.]\n",
      "  [1. 1. 1.]]\n",
      "\n",
      " [[1. 1. 1.]\n",
      "  [1. 1. 1.]]\n",
      "\n",
      " [[1. 1. 1.]\n",
      "  [1. 1. 1.]]\n",
      "\n",
      " [[1. 1. 1.]\n",
      "  [1. 1. 1.]]]\n"
     ]
    }
   ],
   "source": [
    "'''\n",
    "L.S. Correct!\n",
    "'''\n",
    "\n",
    "b = np.zeros((5,2,3))+1\n",
    "print(b)\n",
    "\n",
    "#b = np.full((5,2,3), 1)\n"
   ]
  },
  {
   "cell_type": "code",
   "execution_count": 6,
   "metadata": {},
   "outputs": [],
   "source": [
    "#7 and #8: No, they are not. To check if they are the same size we can try summing them – \n",
    "#if it works, then they are the same size\n",
    "\n",
    "'''\n",
    "L.S. Correct!\n",
    "'''\n",
    "\n",
    "#print(sum(a,b))"
   ]
  },
  {
   "cell_type": "code",
   "execution_count": 7,
   "metadata": {},
   "outputs": [
    {
     "name": "stdout",
     "output_type": "stream",
     "text": [
      "[[[1. 1. 1. 1. 1.]\n",
      "  [1. 1. 1. 1. 1.]\n",
      "  [1. 1. 1. 1. 1.]]\n",
      "\n",
      " [[1. 1. 1. 1. 1.]\n",
      "  [1. 1. 1. 1. 1.]\n",
      "  [1. 1. 1. 1. 1.]]]\n"
     ]
    }
   ],
   "source": [
    "#c = np.arange(4).reshape((2,2))\n",
    "\n",
    "'''\n",
    "L.S. Very good! Correct use of the transpose function.\n",
    "'''\n",
    "\n",
    "c= np.transpose(b.reshape(5,3,2))\n",
    "print(c)"
   ]
  },
  {
   "cell_type": "code",
   "execution_count": 8,
   "metadata": {},
   "outputs": [
    {
     "name": "stdout",
     "output_type": "stream",
     "text": [
      "[[2.43928309 2.75263632 2.68825319 2.31696571 2.70577412]\n",
      " [2.98137111 2.94848359 3.50986323 2.86505281 2.66897801]\n",
      " [2.17243333 3.1873261  3.04363487 3.63524269 2.71130457]]\n"
     ]
    }
   ],
   "source": [
    "d= sum(a+c)\n",
    "print(d)"
   ]
  },
  {
   "cell_type": "code",
   "execution_count": 9,
   "metadata": {},
   "outputs": [
    {
     "name": "stdout",
     "output_type": "stream",
     "text": [
      "[[[0.15053423 0.34385119 0.01317828 0.03879493 0.47160562]\n",
      "  [0.67136312 0.40386404 0.85990045 0.49501737 0.27041047]\n",
      "  [0.06089481 0.59008481 0.18147626 0.96270294 0.31112367]]\n",
      "\n",
      " [[0.28874885 0.40878513 0.67507491 0.27817078 0.2341685 ]\n",
      "  [0.31000799 0.54461955 0.64996279 0.37003544 0.39856755]\n",
      "  [0.11153851 0.5972413  0.86215861 0.67253975 0.4001809 ]]]\n",
      "[[2.43928309 2.75263632 2.68825319 2.31696571 2.70577412]\n",
      " [2.98137111 2.94848359 3.50986323 2.86505281 2.66897801]\n",
      " [2.17243333 3.1873261  3.04363487 3.63524269 2.71130457]]\n"
     ]
    }
   ],
   "source": [
    "print(a)\n",
    "print(d)"
   ]
  },
  {
   "cell_type": "code",
   "execution_count": 10,
   "metadata": {},
   "outputs": [
    {
     "name": "stdout",
     "output_type": "stream",
     "text": [
      "[[[0.15053423 0.34385119 0.01317828 0.03879493 0.47160562]\n",
      "  [0.67136312 0.40386404 0.85990045 0.49501737 0.27041047]\n",
      "  [0.06089481 0.59008481 0.18147626 0.96270294 0.31112367]]\n",
      "\n",
      " [[0.28874885 0.40878513 0.67507491 0.27817078 0.2341685 ]\n",
      "  [0.31000799 0.54461955 0.64996279 0.37003544 0.39856755]\n",
      "  [0.11153851 0.5972413  0.86215861 0.67253975 0.4001809 ]]]\n"
     ]
    }
   ],
   "source": [
    "e=a*c\n",
    "print(e)"
   ]
  },
  {
   "cell_type": "code",
   "execution_count": 11,
   "metadata": {},
   "outputs": [
    {
     "name": "stdout",
     "output_type": "stream",
     "text": [
      "True\n"
     ]
    }
   ],
   "source": [
    "#e=a because c is all 1. essentially you are multiplying all of a indexes with 1 which will give you the same answer. \n",
    "x=np.array_equal(a,e)\n",
    "print(x)"
   ]
  },
  {
   "cell_type": "code",
   "execution_count": 12,
   "metadata": {},
   "outputs": [],
   "source": [
    "'''\n",
    "L.S. Don't forget to print.\n",
    "'''\n",
    "\n",
    "d_max= np.max(d)\n",
    "d_min= np.min(d)\n",
    "d_mean= np.mean(d)"
   ]
  },
  {
   "cell_type": "code",
   "execution_count": 13,
   "metadata": {},
   "outputs": [],
   "source": [
    "f =np.empty((2, 3, 5))"
   ]
  },
  {
   "cell_type": "code",
   "execution_count": 14,
   "metadata": {},
   "outputs": [
    {
     "ename": "NameError",
     "evalue": "name 'index' is not defined",
     "output_type": "error",
     "traceback": [
      "\u001b[0;31m---------------------------------------------------------------------------\u001b[0m",
      "\u001b[0;31mNameError\u001b[0m                                 Traceback (most recent call last)",
      "\u001b[0;32m<ipython-input-14-6e1d12283975>\u001b[0m in \u001b[0;36m<module>\u001b[0;34m()\u001b[0m\n\u001b[1;32m      1\u001b[0m \u001b[0;32mfor\u001b[0m \u001b[0mx\u001b[0m \u001b[0;32min\u001b[0m \u001b[0md\u001b[0m\u001b[0;34m:\u001b[0m\u001b[0;34m\u001b[0m\u001b[0m\n\u001b[0;32m----> 2\u001b[0;31m     \u001b[0;32mif\u001b[0m \u001b[0mindex\u001b[0m\u001b[0;34m[\u001b[0m\u001b[0mx\u001b[0m\u001b[0;34m]\u001b[0m \u001b[0;34m<\u001b[0m \u001b[0md_mean\u001b[0m \u001b[0;32mand\u001b[0m \u001b[0mindex\u001b[0m\u001b[0;34m[\u001b[0m\u001b[0mx\u001b[0m\u001b[0;34m]\u001b[0m \u001b[0;34m>\u001b[0m \u001b[0md\u001b[0m\u001b[0;34m(\u001b[0m\u001b[0mmin\u001b[0m\u001b[0;34m)\u001b[0m\u001b[0;34m:\u001b[0m\u001b[0;34m\u001b[0m\u001b[0m\n\u001b[0m\u001b[1;32m      3\u001b[0m         \u001b[0mf\u001b[0m\u001b[0;34m.\u001b[0m\u001b[0mappend\u001b[0m\u001b[0;34m(\u001b[0m\u001b[0mx\u001b[0m\u001b[0;34m)\u001b[0m\u001b[0;34m\u001b[0m\u001b[0m\n\u001b[1;32m      4\u001b[0m     \u001b[0;32melse\u001b[0m\u001b[0;34m:\u001b[0m \u001b[0mf\u001b[0m\u001b[0;34m.\u001b[0m\u001b[0mappend\u001b[0m\u001b[0;34m(\u001b[0m\u001b[0;36m25\u001b[0m\u001b[0;34m)\u001b[0m\u001b[0;34m\u001b[0m\u001b[0m\n\u001b[1;32m      5\u001b[0m \u001b[0mprint\u001b[0m\u001b[0;34m(\u001b[0m\u001b[0mf\u001b[0m\u001b[0;34m)\u001b[0m\u001b[0;34m\u001b[0m\u001b[0m\n",
      "\u001b[0;31mNameError\u001b[0m: name 'index' is not defined"
     ]
    }
   ],
   "source": [
    "\n",
    "\n",
    "\n",
    "for x in d: \n",
    "    if index[x] < d_mean and index[x] > d(min):\n",
    "        f.append(x)\n",
    "    else: f.append(25)\n",
    "print(f)"
   ]
  },
  {
   "cell_type": "code",
   "execution_count": null,
   "metadata": {},
   "outputs": [],
   "source": []
  },
  {
   "cell_type": "code",
   "execution_count": null,
   "metadata": {},
   "outputs": [],
   "source": []
  }
 ],
 "metadata": {
  "kernelspec": {
   "display_name": "Python 3",
   "language": "python",
   "name": "python3"
  },
  "language_info": {
   "codemirror_mode": {
    "name": "ipython",
    "version": 3
   },
   "file_extension": ".py",
   "mimetype": "text/x-python",
   "name": "python",
   "nbconvert_exporter": "python",
   "pygments_lexer": "ipython3",
   "version": "3.6.4"
  }
 },
 "nbformat": 4,
 "nbformat_minor": 4
}
